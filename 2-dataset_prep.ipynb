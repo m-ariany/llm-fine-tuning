{
 "cells": [
  {
   "cell_type": "code",
   "execution_count": 1,
   "metadata": {},
   "outputs": [],
   "source": [
    "instruction = f\"You are an intelligent translator specializing in translating technical texts from English to Farsi. Please follow these steps to translate the provided English texts to Farsi: 1. Thoroughly understand the given text. 2. Translate the content into fluent Farsi, preserving the original structure and flow. 3. Tailor the translation for software engineers by keeping the technical and programming terms in English, enclosed in backticks (e.g., GPT-3). 4. You can include additional explanations in Farsi for clarity, if needed. 5. If you encounter a block of text enclosed in triple backticks, do not translate it; keep it as it is in your translation. 6. Review your translation to ensure you followed the steps. If the translated text is not fluent Farsi, revise it. 7. Your output should only include the very final version and formatted translation.\""
   ]
  },
  {
   "cell_type": "code",
   "execution_count": 2,
   "metadata": {},
   "outputs": [],
   "source": [
    "training_data = []\n",
    "\n",
    "file_path = \"few-shots.txt\"\n",
    "with open(file_path, \"r\", encoding='utf-8') as file:\n",
    "    lines = file.readlines()\n",
    "\n",
    "# remove the empty lines\n",
    "lines = [line.strip() for line in lines if line.strip()]\n",
    "\n",
    "# read every two lines (EN, FA) together\n",
    "for i in range(0, len(lines), 2):\n",
    "    if i + 1 < len(lines):\n",
    "        if \"English:\" not in lines[i].strip():\n",
    "            raise RuntimeError(f\"Line does not start with 'English: ', {lines[i]}\")\n",
    "        if \"Farsi:\" not in lines[i+1].strip():\n",
    "            raise RuntimeError(f\"Line does not start with 'Farsi: ', {lines[i+1]}\")\n",
    "        # \\u200c\n",
    "        prompt = lines[i].strip().replace(\"English: \", \"\").replace(\"\\\"\", \"'\")\n",
    "        response = lines[i+1].strip().replace(\"Farsi: \", \"\").replace(\"\\\"\", \"'\")\n",
    "        training_data.append({\"messages\": [{\"role\": \"system\", \"content\":f\"{instruction}\"}, {\"role\": \"user\", \"content\":f\"{prompt}\"}, {\"role\": \"assistant\", \"content\":f\"{response}\"}]})"
   ]
  },
  {
   "cell_type": "code",
   "execution_count": 3,
   "metadata": {},
   "outputs": [],
   "source": [
    "import json\n",
    "\n",
    "with open(\"training_dataset.jsonl\", \"w\") as file:\n",
    "    for sample in training_data:\n",
    "        file.write(json.dumps(sample, ensure_ascii=False) + '\\n')\n"
   ]
  }
 ],
 "metadata": {
  "kernelspec": {
   "display_name": ".venv",
   "language": "python",
   "name": "python3"
  },
  "language_info": {
   "codemirror_mode": {
    "name": "ipython",
    "version": 3
   },
   "file_extension": ".py",
   "mimetype": "text/x-python",
   "name": "python",
   "nbconvert_exporter": "python",
   "pygments_lexer": "ipython3",
   "version": "3.12.4"
  }
 },
 "nbformat": 4,
 "nbformat_minor": 2
}
