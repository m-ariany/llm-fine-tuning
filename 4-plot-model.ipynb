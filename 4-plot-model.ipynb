{
 "cells": [
  {
   "cell_type": "code",
   "execution_count": null,
   "metadata": {},
   "outputs": [],
   "source": [
    "import base64\n",
    "import pandas as pd\n",
    "import os\n",
    "from dotenv import load_dotenv\n",
    "from openai import OpenAI\n",
    "\n",
    "load_dotenv()\n",
    "\n",
    "client = OpenAI(\n",
    "    api_key=os.environ.get(\"GILAS_API_KEY\"),\n",
    "    base_url=\"https://api.gilas.io/v1/\"\n",
    ")\n",
    "\n",
    "# Get the result file ID\n",
    "result_file_id = 'file-xxxx'\n",
    "\n",
    "# Download the content\n",
    "content = client.files.content(result_file_id)\n",
    "\n",
    "# Decode the content\n",
    "decoded_content = base64.b64decode(content.text.encode(\"utf-8\"))\n",
    "\n",
    "# Save to a CSV file\n",
    "with open(\"result.csv\", \"wb\") as f:\n",
    "    f.write(decoded_content)\n",
    "\n",
    "# Read the CSV file into a pandas DataFrame\n",
    "df = pd.read_csv(\"result.csv\")\n"
   ]
  },
  {
   "cell_type": "code",
   "execution_count": null,
   "metadata": {},
   "outputs": [],
   "source": [
    "import matplotlib.pyplot as plt\n",
    "\n",
    "# Plot training loss\n",
    "plt.figure(figsize=(10, 6))\n",
    "plt.plot(df['step'], df['train_loss'], label='Training Loss')\n",
    "plt.plot(df['step'], df['valid_loss'], label='Validation Loss')\n",
    "plt.xlabel('Step')\n",
    "plt.ylabel('Loss')\n",
    "plt.title('Training and Validation Loss')\n",
    "plt.legend()\n",
    "plt.show()\n",
    "\n",
    "# Plot token accuracy\n",
    "plt.figure(figsize=(10, 6))\n",
    "plt.plot(df['step'], df['train_token_accuracy'], label='Training Accuracy')\n",
    "plt.plot(df['step'], df['valid_token_accuracy'], label='Validation Accuracy')\n",
    "plt.xlabel('Step')\n",
    "plt.ylabel('Token Accuracy')\n",
    "plt.title('Training and Validation Token Accuracy')\n",
    "plt.legend()\n",
    "plt.show()\n"
   ]
  }
 ],
 "metadata": {
  "kernelspec": {
   "display_name": ".venv",
   "language": "python",
   "name": "python3"
  },
  "language_info": {
   "codemirror_mode": {
    "name": "ipython",
    "version": 3
   },
   "file_extension": ".py",
   "mimetype": "text/x-python",
   "name": "python",
   "nbconvert_exporter": "python",
   "pygments_lexer": "ipython3",
   "version": "3.12.4"
  }
 },
 "nbformat": 4,
 "nbformat_minor": 2
}
