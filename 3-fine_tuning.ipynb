{
 "cells": [
  {
   "cell_type": "code",
   "execution_count": null,
   "metadata": {},
   "outputs": [],
   "source": [
    "import os\n",
    "from dotenv import load_dotenv\n",
    "from openai import OpenAI\n",
    "\n",
    "load_dotenv()\n",
    "\n",
    "client = OpenAI(\n",
    "    api_key=os.environ.get(\"GILAS_API_KEY\"),\n",
    "    base_url=\"https://api.gilas.io/v1/\"\n",
    ")"
   ]
  },
  {
   "cell_type": "code",
   "execution_count": null,
   "metadata": {},
   "outputs": [],
   "source": [
    "# Upload the training file\n",
    "\n",
    "print(\n",
    "client.files.create(\n",
    "  file=open(\"training_dataset.jsonl\", \"rb\"),\n",
    "  purpose=\"fine-tune\"\n",
    "))"
   ]
  },
  {
   "cell_type": "code",
   "execution_count": null,
   "metadata": {},
   "outputs": [],
   "source": [
    "# Trigger fine-tuning job\n",
    "print(\n",
    "client.fine_tuning.jobs.create(\n",
    "  training_file=\"file-xxxxxx\",\n",
    "  model=\"gpt-4o-mini\"\n",
    "))"
   ]
  },
  {
   "cell_type": "code",
   "execution_count": null,
   "metadata": {},
   "outputs": [],
   "source": [
    "# Retrieve fine-tuning job's status\n",
    "from IPython.display import display, JSON\n",
    "\n",
    "# Display all my jobs\n",
    "display(client.fine_tuning.jobs.list())"
   ]
  },
  {
   "cell_type": "code",
   "execution_count": null,
   "metadata": {},
   "outputs": [],
   "source": [
    "\n",
    "# Display the response in a JSON format\n",
    "display(JSON(client.fine_tuning.jobs.retrieve(\"ftjob-xxxx\").__dict__))\n"
   ]
  },
  {
   "cell_type": "code",
   "execution_count": null,
   "metadata": {},
   "outputs": [],
   "source": [
    "import json\n",
    "\n",
    "models = client.models.list()\n",
    "\n",
    "data_dict = {\n",
    "    \"data\": [model.__dict__ for model in models.data],\n",
    "    \"object\": models.object\n",
    "}\n",
    "\n",
    "# Convert to JSON string\n",
    "json_output = json.dumps(data_dict, indent=4)\n",
    "\n",
    "# Display the JSON\n",
    "print(json_output)"
   ]
  }
 ],
 "metadata": {
  "kernelspec": {
   "display_name": ".venv",
   "language": "python",
   "name": "python3"
  },
  "language_info": {
   "codemirror_mode": {
    "name": "ipython",
    "version": 3
   },
   "file_extension": ".py",
   "mimetype": "text/x-python",
   "name": "python",
   "nbconvert_exporter": "python",
   "pygments_lexer": "ipython3",
   "version": "3.12.4"
  }
 },
 "nbformat": 4,
 "nbformat_minor": 2
}
